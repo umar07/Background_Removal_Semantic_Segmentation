{
 "cells": [
  {
   "cell_type": "markdown",
   "metadata": {},
   "source": [
    "If you dont have segmentation-models library downloaded already, then do-\n",
    "`!pip install segmentation-models`\n",
    "\n",
    "Read more about the library here: https://segmentation-models.readthedocs.io/en/latest/install.html"
   ]
  },
  {
   "cell_type": "code",
   "execution_count": 1,
   "metadata": {},
   "outputs": [
    {
     "name": "stdout",
     "output_type": "stream",
     "text": [
      "Segmentation Models: using `tf.keras` framework.\n"
     ]
    }
   ],
   "source": [
    "import numpy\n",
    "import cv2\n",
    "import os\n",
    "import pandas as pd\n",
    "import matplotlib.pyplot as plt\n",
    "from segmentation_models import Unet\n",
    "from segmentation_models.metrics import IOUScore\n",
    "from segmentation_models.losses import JaccardLoss\n",
    "import tensorflow as tf\n",
    "from tensorflow.keras.preprocessing.image import ImageDataGenerator"
   ]
  },
  {
   "cell_type": "code",
   "execution_count": 2,
   "metadata": {},
   "outputs": [
    {
     "name": "stdout",
     "output_type": "stream",
     "text": [
      "Found 17697 images belonging to 1 classes.\n",
      "Found 17697 images belonging to 1 classes.\n",
      "Found 1001 images belonging to 1 classes.\n",
      "Found 1001 images belonging to 1 classes.\n",
      "Found 3740 images belonging to 1 classes.\n",
      "Found 3740 images belonging to 1 classes.\n"
     ]
    }
   ],
   "source": [
    "path = 'YOUR_PATH_TO_PARENT_DIRECTORY_OF_DATASET'\n",
    "\n",
    "img_size = (128,128)\n",
    "batch_size = 64\n",
    "seed = 1\n",
    "\n",
    "image_datagen = ImageDataGenerator(rescale=1./255)\n",
    "mask_datagen = ImageDataGenerator(rescale=1./255)\n",
    "\n",
    "#train images and their masks\n",
    "train_image_generator = image_datagen.flow_from_directory(\n",
    "                        path,\n",
    "                        classes=['xtrain'],\n",
    "                        target_size=img_size,\n",
    "                        batch_size=batch_size,\n",
    "                        class_mode=None, # None because we dont want labels to be returned, just images.\n",
    "                        seed=seed, \n",
    "                        shuffle=False,\n",
    "                        color_mode='rgb')\n",
    "\n",
    "train_mask_generator = mask_datagen.flow_from_directory(\n",
    "                        path,\n",
    "                        classes=['ytrain'],\n",
    "                        target_size=img_size,\n",
    "                        batch_size=batch_size,\n",
    "                        class_mode=None,# None because we dont want labels to be returned, just images.\n",
    "                        seed=seed,\n",
    "                        shuffle=False,\n",
    "                        color_mode='grayscale')\n",
    "\n",
    "train_generator = zip(train_image_generator, train_mask_generator)\n",
    "\n",
    "# Validation images and their masks\n",
    "# I created a separate validation data of 1000 images and masks taken from the training data.\n",
    "# xval and yval folders contain those images and masks respectively.\n",
    "val_image_generator = image_datagen.flow_from_directory(\n",
    "                        path,\n",
    "                        classes=['xval'],\n",
    "                        target_size=img_size,\n",
    "                        batch_size=batch_size,\n",
    "                        class_mode=None,# None because we dont want labels to be returned, just images.\n",
    "                        seed=seed,\n",
    "                        shuffle=False,\n",
    "                        color_mode='rgb')\n",
    "\n",
    "val_mask_generator = mask_datagen.flow_from_directory(\n",
    "                        path,\n",
    "                        classes=['yval'],\n",
    "                        target_size=img_size,\n",
    "                        batch_size=batch_size,\n",
    "                        class_mode=None, # None because we dont want labels to be returned, just images.\n",
    "                        seed=seed,\n",
    "                        shuffle=False,\n",
    "                        color_mode='grayscale')\n",
    "\n",
    "validation_generator = zip(val_image_generator, val_mask_generator)\n",
    "\n",
    "# Test images and their masks\n",
    "test_image_generator = image_datagen.flow_from_directory(\n",
    "                        path,\n",
    "                        classes=['xtest'],\n",
    "                        target_size=img_size,\n",
    "                        batch_size=batch_size,\n",
    "                        class_mode=None, # None because we dont want labels to be returned, just images.\n",
    "                        seed=seed,\n",
    "                        shuffle=False,\n",
    "                        color_mode='rgb')\n",
    "\n",
    "test_mask_generator = mask_datagen.flow_from_directory(\n",
    "                        path,\n",
    "                        classes=['ytest'],\n",
    "                        target_size=img_size,\n",
    "                        batch_size=batch_size,\n",
    "                        class_mode=None, # None because we dont want labels to be returned, just images.\n",
    "                        seed=seed,\n",
    "                        shuffle=False,\n",
    "                        color_mode='grayscale')\n",
    "\n",
    "test_generator = zip(test_image_generator, test_mask_generator)"
   ]
  },
  {
   "cell_type": "code",
   "execution_count": 3,
   "metadata": {},
   "outputs": [
    {
     "name": "stdout",
     "output_type": "stream",
     "text": [
      "train_image_gen. shape:  277\n",
      "train_mask_gen. shape:  277\n",
      "train_image_gen.[0] shape:  (64, 128, 128, 3)\n",
      "train_mask_gen.[0] shape:  (64, 128, 128, 1)\n",
      "\n",
      "val_image_gen. shape:  16\n",
      "val_image_gen.[0] shape:  (64, 128, 128, 3)\n",
      "val_mask_gen.[0] shape:  (64, 128, 128, 1)\n",
      "\n",
      "test_image_gen. shape:  59\n",
      "test_image_gen.[0] shape:  (64, 128, 128, 3)\n",
      "test_mask_gen.[0] shape:  (64, 128, 128, 1)\n"
     ]
    }
   ],
   "source": [
    "print(\"train_image_gen. shape: \",len(train_image_generator)) # 17697/64 = 277 (batchsize)\n",
    "print(\"train_mask_gen. shape: \",len(train_mask_generator))\n",
    "print(\"train_image_gen.[0] shape: \",train_image_generator[0].shape) #each batch shape\n",
    "print(\"train_mask_gen.[0] shape: \",train_mask_generator[0].shape)\n",
    "\n",
    "print(\"\\nval_image_gen. shape: \",len(val_image_generator)) #1001/64 = 16\n",
    "print(\"val_image_gen.[0] shape: \",val_image_generator[0].shape) #each batch shape\n",
    "print(\"val_mask_gen.[0] shape: \",val_mask_generator[0].shape)\n",
    "\n",
    "print(\"\\ntest_image_gen. shape: \",len(test_image_generator)) #3740/64 = 58.4\n",
    "print(\"test_image_gen.[0] shape: \",test_image_generator[0].shape) #each batch shape\n",
    "print(\"test_mask_gen.[0] shape: \",test_mask_generator[0].shape)"
   ]
  },
  {
   "cell_type": "code",
   "execution_count": 4,
   "metadata": {},
   "outputs": [
    {
     "name": "stdout",
     "output_type": "stream",
     "text": [
      "Model: \"model\"\n",
      "__________________________________________________________________________________________________\n",
      "Layer (type)                    Output Shape         Param #     Connected to                     \n",
      "==================================================================================================\n",
      "input_1 (InputLayer)            [(None, None, None,  0                                            \n",
      "__________________________________________________________________________________________________\n",
      "block1_conv1 (Conv2D)           (None, None, None, 6 1792        input_1[0][0]                    \n",
      "__________________________________________________________________________________________________\n",
      "block1_conv2 (Conv2D)           (None, None, None, 6 36928       block1_conv1[0][0]               \n",
      "__________________________________________________________________________________________________\n",
      "block1_pool (MaxPooling2D)      (None, None, None, 6 0           block1_conv2[0][0]               \n",
      "__________________________________________________________________________________________________\n",
      "block2_conv1 (Conv2D)           (None, None, None, 1 73856       block1_pool[0][0]                \n",
      "__________________________________________________________________________________________________\n",
      "block2_conv2 (Conv2D)           (None, None, None, 1 147584      block2_conv1[0][0]               \n",
      "__________________________________________________________________________________________________\n",
      "block2_pool (MaxPooling2D)      (None, None, None, 1 0           block2_conv2[0][0]               \n",
      "__________________________________________________________________________________________________\n",
      "block3_conv1 (Conv2D)           (None, None, None, 2 295168      block2_pool[0][0]                \n",
      "__________________________________________________________________________________________________\n",
      "block3_conv2 (Conv2D)           (None, None, None, 2 590080      block3_conv1[0][0]               \n",
      "__________________________________________________________________________________________________\n",
      "block3_conv3 (Conv2D)           (None, None, None, 2 590080      block3_conv2[0][0]               \n",
      "__________________________________________________________________________________________________\n",
      "block3_pool (MaxPooling2D)      (None, None, None, 2 0           block3_conv3[0][0]               \n",
      "__________________________________________________________________________________________________\n",
      "block4_conv1 (Conv2D)           (None, None, None, 5 1180160     block3_pool[0][0]                \n",
      "__________________________________________________________________________________________________\n",
      "block4_conv2 (Conv2D)           (None, None, None, 5 2359808     block4_conv1[0][0]               \n",
      "__________________________________________________________________________________________________\n",
      "block4_conv3 (Conv2D)           (None, None, None, 5 2359808     block4_conv2[0][0]               \n",
      "__________________________________________________________________________________________________\n",
      "block4_pool (MaxPooling2D)      (None, None, None, 5 0           block4_conv3[0][0]               \n",
      "__________________________________________________________________________________________________\n",
      "block5_conv1 (Conv2D)           (None, None, None, 5 2359808     block4_pool[0][0]                \n",
      "__________________________________________________________________________________________________\n",
      "block5_conv2 (Conv2D)           (None, None, None, 5 2359808     block5_conv1[0][0]               \n",
      "__________________________________________________________________________________________________\n",
      "block5_conv3 (Conv2D)           (None, None, None, 5 2359808     block5_conv2[0][0]               \n",
      "__________________________________________________________________________________________________\n",
      "block5_pool (MaxPooling2D)      (None, None, None, 5 0           block5_conv3[0][0]               \n",
      "__________________________________________________________________________________________________\n",
      "center_block1_conv (Conv2D)     (None, None, None, 5 2359296     block5_pool[0][0]                \n",
      "__________________________________________________________________________________________________\n",
      "center_block1_bn (BatchNormaliz (None, None, None, 5 2048        center_block1_conv[0][0]         \n",
      "__________________________________________________________________________________________________\n",
      "center_block1_relu (Activation) (None, None, None, 5 0           center_block1_bn[0][0]           \n",
      "__________________________________________________________________________________________________\n",
      "center_block2_conv (Conv2D)     (None, None, None, 5 2359296     center_block1_relu[0][0]         \n",
      "__________________________________________________________________________________________________\n",
      "center_block2_bn (BatchNormaliz (None, None, None, 5 2048        center_block2_conv[0][0]         \n",
      "__________________________________________________________________________________________________\n",
      "center_block2_relu (Activation) (None, None, None, 5 0           center_block2_bn[0][0]           \n",
      "__________________________________________________________________________________________________\n",
      "decoder_stage0_upsampling (UpSa (None, None, None, 5 0           center_block2_relu[0][0]         \n",
      "__________________________________________________________________________________________________\n",
      "decoder_stage0_concat (Concaten (None, None, None, 1 0           decoder_stage0_upsampling[0][0]  \n",
      "                                                                 block5_conv3[0][0]               \n",
      "__________________________________________________________________________________________________\n",
      "decoder_stage0a_conv (Conv2D)   (None, None, None, 2 2359296     decoder_stage0_concat[0][0]      \n",
      "__________________________________________________________________________________________________\n",
      "decoder_stage0a_bn (BatchNormal (None, None, None, 2 1024        decoder_stage0a_conv[0][0]       \n",
      "__________________________________________________________________________________________________\n",
      "decoder_stage0a_relu (Activatio (None, None, None, 2 0           decoder_stage0a_bn[0][0]         \n",
      "__________________________________________________________________________________________________\n",
      "decoder_stage0b_conv (Conv2D)   (None, None, None, 2 589824      decoder_stage0a_relu[0][0]       \n",
      "__________________________________________________________________________________________________\n",
      "decoder_stage0b_bn (BatchNormal (None, None, None, 2 1024        decoder_stage0b_conv[0][0]       \n",
      "__________________________________________________________________________________________________\n",
      "decoder_stage0b_relu (Activatio (None, None, None, 2 0           decoder_stage0b_bn[0][0]         \n",
      "__________________________________________________________________________________________________\n",
      "decoder_stage1_upsampling (UpSa (None, None, None, 2 0           decoder_stage0b_relu[0][0]       \n",
      "__________________________________________________________________________________________________\n",
      "decoder_stage1_concat (Concaten (None, None, None, 7 0           decoder_stage1_upsampling[0][0]  \n",
      "                                                                 block4_conv3[0][0]               \n",
      "__________________________________________________________________________________________________\n",
      "decoder_stage1a_conv (Conv2D)   (None, None, None, 1 884736      decoder_stage1_concat[0][0]      \n",
      "__________________________________________________________________________________________________\n",
      "decoder_stage1a_bn (BatchNormal (None, None, None, 1 512         decoder_stage1a_conv[0][0]       \n",
      "__________________________________________________________________________________________________\n",
      "decoder_stage1a_relu (Activatio (None, None, None, 1 0           decoder_stage1a_bn[0][0]         \n",
      "__________________________________________________________________________________________________\n",
      "decoder_stage1b_conv (Conv2D)   (None, None, None, 1 147456      decoder_stage1a_relu[0][0]       \n",
      "__________________________________________________________________________________________________\n",
      "decoder_stage1b_bn (BatchNormal (None, None, None, 1 512         decoder_stage1b_conv[0][0]       \n",
      "__________________________________________________________________________________________________\n",
      "decoder_stage1b_relu (Activatio (None, None, None, 1 0           decoder_stage1b_bn[0][0]         \n",
      "__________________________________________________________________________________________________\n",
      "decoder_stage2_upsampling (UpSa (None, None, None, 1 0           decoder_stage1b_relu[0][0]       \n",
      "__________________________________________________________________________________________________\n",
      "decoder_stage2_concat (Concaten (None, None, None, 3 0           decoder_stage2_upsampling[0][0]  \n",
      "                                                                 block3_conv3[0][0]               \n",
      "__________________________________________________________________________________________________\n",
      "decoder_stage2a_conv (Conv2D)   (None, None, None, 6 221184      decoder_stage2_concat[0][0]      \n",
      "__________________________________________________________________________________________________\n",
      "decoder_stage2a_bn (BatchNormal (None, None, None, 6 256         decoder_stage2a_conv[0][0]       \n",
      "__________________________________________________________________________________________________\n",
      "decoder_stage2a_relu (Activatio (None, None, None, 6 0           decoder_stage2a_bn[0][0]         \n",
      "__________________________________________________________________________________________________\n",
      "decoder_stage2b_conv (Conv2D)   (None, None, None, 6 36864       decoder_stage2a_relu[0][0]       \n",
      "__________________________________________________________________________________________________\n",
      "decoder_stage2b_bn (BatchNormal (None, None, None, 6 256         decoder_stage2b_conv[0][0]       \n",
      "__________________________________________________________________________________________________\n",
      "decoder_stage2b_relu (Activatio (None, None, None, 6 0           decoder_stage2b_bn[0][0]         \n",
      "__________________________________________________________________________________________________\n",
      "decoder_stage3_upsampling (UpSa (None, None, None, 6 0           decoder_stage2b_relu[0][0]       \n",
      "__________________________________________________________________________________________________\n",
      "decoder_stage3_concat (Concaten (None, None, None, 1 0           decoder_stage3_upsampling[0][0]  \n",
      "                                                                 block2_conv2[0][0]               \n",
      "__________________________________________________________________________________________________\n",
      "decoder_stage3a_conv (Conv2D)   (None, None, None, 3 55296       decoder_stage3_concat[0][0]      \n",
      "__________________________________________________________________________________________________\n",
      "decoder_stage3a_bn (BatchNormal (None, None, None, 3 128         decoder_stage3a_conv[0][0]       \n",
      "__________________________________________________________________________________________________\n",
      "decoder_stage3a_relu (Activatio (None, None, None, 3 0           decoder_stage3a_bn[0][0]         \n",
      "__________________________________________________________________________________________________\n",
      "decoder_stage3b_conv (Conv2D)   (None, None, None, 3 9216        decoder_stage3a_relu[0][0]       \n",
      "__________________________________________________________________________________________________\n",
      "decoder_stage3b_bn (BatchNormal (None, None, None, 3 128         decoder_stage3b_conv[0][0]       \n",
      "__________________________________________________________________________________________________\n",
      "decoder_stage3b_relu (Activatio (None, None, None, 3 0           decoder_stage3b_bn[0][0]         \n",
      "__________________________________________________________________________________________________\n",
      "decoder_stage4_upsampling (UpSa (None, None, None, 3 0           decoder_stage3b_relu[0][0]       \n",
      "__________________________________________________________________________________________________\n",
      "decoder_stage4a_conv (Conv2D)   (None, None, None, 1 4608        decoder_stage4_upsampling[0][0]  \n",
      "__________________________________________________________________________________________________\n",
      "decoder_stage4a_bn (BatchNormal (None, None, None, 1 64          decoder_stage4a_conv[0][0]       \n",
      "__________________________________________________________________________________________________\n",
      "decoder_stage4a_relu (Activatio (None, None, None, 1 0           decoder_stage4a_bn[0][0]         \n",
      "__________________________________________________________________________________________________\n",
      "decoder_stage4b_conv (Conv2D)   (None, None, None, 1 2304        decoder_stage4a_relu[0][0]       \n",
      "__________________________________________________________________________________________________\n",
      "decoder_stage4b_bn (BatchNormal (None, None, None, 1 64          decoder_stage4b_conv[0][0]       \n",
      "__________________________________________________________________________________________________\n",
      "decoder_stage4b_relu (Activatio (None, None, None, 1 0           decoder_stage4b_bn[0][0]         \n",
      "__________________________________________________________________________________________________\n",
      "final_conv (Conv2D)             (None, None, None, 1 145         decoder_stage4b_relu[0][0]       \n",
      "__________________________________________________________________________________________________\n",
      "sigmoid (Activation)            (None, None, None, 1 0           final_conv[0][0]                 \n",
      "==================================================================================================\n",
      "Total params: 23,752,273\n",
      "Trainable params: 9,033,553\n",
      "Non-trainable params: 14,718,720\n",
      "__________________________________________________________________________________________________\n"
     ]
    }
   ],
   "source": [
    "# Model \n",
    "# Since our principle class is \"Person\", and encoder- backbone ie VGG has been pre-trained for this class\n",
    "# it is better to freeze the weights. Saves a lot of computation with good results.\n",
    "\n",
    "model = Unet(encoder_freeze=True)\n",
    "model.summary()"
   ]
  },
  {
   "cell_type": "code",
   "execution_count": 5,
   "metadata": {},
   "outputs": [],
   "source": [
    "# Loss function and metric taken from the segmentation-models library itself.\n",
    "loss_func = JaccardLoss(per_image=True)\n",
    "metric = IOUScore(per_image=True)"
   ]
  },
  {
   "cell_type": "code",
   "execution_count": 6,
   "metadata": {},
   "outputs": [],
   "source": [
    "# Early stopping callback\n",
    "callback = tf.keras.callbacks.EarlyStopping(monitor='val_loss', patience=3)"
   ]
  },
  {
   "cell_type": "code",
   "execution_count": 7,
   "metadata": {},
   "outputs": [],
   "source": [
    "model.compile(loss = loss_func, optimizer=\"adam\", metrics=[metric])"
   ]
  },
  {
   "cell_type": "code",
   "execution_count": 8,
   "metadata": {},
   "outputs": [
    {
     "name": "stdout",
     "output_type": "stream",
     "text": [
      "time: 453 µs (started: 2021-09-07 10:04:33 +05:30)\n"
     ]
    }
   ],
   "source": [
    "%load_ext autotime"
   ]
  },
  {
   "cell_type": "code",
   "execution_count": 11,
   "metadata": {},
   "outputs": [
    {
     "name": "stdout",
     "output_type": "stream",
     "text": [
      "Epoch 1/5\n",
      "277/277 [==============================] - 4216s 15s/step - loss: 0.0293 - iou_score: 0.9707 - val_loss: 0.0377 - val_iou_score: 0.9625\n",
      "Epoch 2/5\n",
      "277/277 [==============================] - 3832s 14s/step - loss: 0.0278 - iou_score: 0.9723 - val_loss: 0.0377 - val_iou_score: 0.9624\n",
      "Epoch 3/5\n",
      "277/277 [==============================] - 4413s 16s/step - loss: 0.0265 - iou_score: 0.9735 - val_loss: 0.0383 - val_iou_score: 0.9618\n",
      "Epoch 4/5\n",
      "277/277 [==============================] - 4318s 16s/step - loss: 0.0250 - iou_score: 0.9750 - val_loss: 0.0347 - val_iou_score: 0.9654\n",
      "Epoch 5/5\n",
      "277/277 [==============================] - 4343s 16s/step - loss: 0.0237 - iou_score: 0.9763 - val_loss: 0.0357 - val_iou_score: 0.9644\n",
      "time: 5h 52min 2s (started: 2021-09-07 17:44:12 +05:30)\n"
     ]
    }
   ],
   "source": [
    "# couldnt calculate steps= len(generator)//batch_size because our gen. is zipped!\n",
    "# Use steps argument everytime because otherwise it will go into infinite repeating dataset problem.\n",
    "\n",
    "# I trained for a total 10 or 11 epochs.\n",
    "\n",
    "model_history = model.fit(train_generator, steps_per_epoch = 277, validation_data=validation_generator,\n",
    "           validation_steps = 16, batch_size=64, epochs=5, callbacks=[callback])"
   ]
  },
  {
   "cell_type": "code",
   "execution_count": 13,
   "metadata": {},
   "outputs": [
    {
     "name": "stdout",
     "output_type": "stream",
     "text": [
      "59/59 [==============================] - 431s 7s/step - loss: 0.0189 - iou_score: 0.9810\n"
     ]
    },
    {
     "data": {
      "text/plain": [
       "[0.018852343782782555, 0.9809785485267639]"
      ]
     },
     "execution_count": 13,
     "metadata": {},
     "output_type": "execute_result"
    },
    {
     "name": "stdout",
     "output_type": "stream",
     "text": [
      "time: 7min 11s (started: 2021-09-07 23:50:04 +05:30)\n"
     ]
    }
   ],
   "source": [
    "model.evaluate(test_generator, batch_size=64, steps=59, verbose=1) #len(test_gen is 59)"
   ]
  },
  {
   "cell_type": "code",
   "execution_count": 14,
   "metadata": {},
   "outputs": [
    {
     "name": "stdout",
     "output_type": "stream",
     "text": [
      "INFO:tensorflow:Assets written to: Unet_model/assets\n",
      "time: 7.69 s (started: 2021-09-08 00:03:23 +05:30)\n"
     ]
    }
   ],
   "source": [
    "model.save('Unet_model')"
   ]
  },
  {
   "cell_type": "markdown",
   "metadata": {},
   "source": [
    "## Visualising the results:"
   ]
  },
  {
   "cell_type": "code",
   "execution_count": 5,
   "metadata": {},
   "outputs": [],
   "source": [
    "loss_func = JaccardLoss(per_image=True)\n",
    "metric = IOUScore(per_image=True)"
   ]
  },
  {
   "cell_type": "code",
   "execution_count": 7,
   "metadata": {},
   "outputs": [
    {
     "name": "stdout",
     "output_type": "stream",
     "text": [
      "WARNING:tensorflow:Unable to restore custom metric. Please ensure that the layer implements `get_config` and `from_config` when saving. In addition, please use the `custom_objects` arg when calling `load_model()`.\n"
     ]
    }
   ],
   "source": [
    "model = tf.keras.models.load_model('Unet_model', compile=False) \n",
    "# since we are using metrics/losses that are not pre-defined in tensorflow, it will give problem in\n",
    "#deserialising the saved model.The work around is to load model without compiling it and then compile later."
   ]
  },
  {
   "cell_type": "code",
   "execution_count": 8,
   "metadata": {},
   "outputs": [],
   "source": [
    "model.compile(loss = loss_func, optimizer=\"adam\", metrics=[metric])"
   ]
  },
  {
   "cell_type": "code",
   "execution_count": 41,
   "metadata": {},
   "outputs": [
    {
     "name": "stdout",
     "output_type": "stream",
     "text": [
      "(1, 128, 128, 3)\n"
     ]
    }
   ],
   "source": [
    "path_test_img = 'ANY_TEST_IMAGE_PATH'\n",
    "\n",
    "img_test_orig = cv2.imread(path_test_img)\n",
    "h, w = img_test_orig.shape[0:2]\n",
    "\n",
    "img_test_resized = cv2.resize(img_test_orig, (128,128))\n",
    "img_test = np.asarray(img_test_resized)/255.0\n",
    "img_test = img_test[np.newaxis,...]\n",
    "print(img_test.shape)\n"
   ]
  },
  {
   "cell_type": "code",
   "execution_count": 42,
   "metadata": {},
   "outputs": [
    {
     "name": "stdout",
     "output_type": "stream",
     "text": [
      "(1, 128, 128, 1)\n"
     ]
    }
   ],
   "source": [
    "# Predicting the output from the trained model.\n",
    "pred_img = model.predict(img_test)\n",
    "print(pred_img.shape)"
   ]
  },
  {
   "cell_type": "code",
   "execution_count": 44,
   "metadata": {},
   "outputs": [
    {
     "name": "stdout",
     "output_type": "stream",
     "text": [
      "Shape of result:  (128, 128, 4)\n",
      "Shape of pred_img_copy:  (128, 128)\n",
      "bg_removed shape:  (128, 128, 4)\n"
     ]
    }
   ],
   "source": [
    "pred_img = np.squeeze(pred_img) #removing extra 1-dimensions.\n",
    "\n",
    "result = img_test_resized.copy()\n",
    "result = cv2.cvtColor(result, cv2.COLOR_BGR2RGBA)\n",
    "\n",
    "pred_img_copy = pred_img.copy()\n",
    "pred_img_copy[pred_img_copy<0.5] = 0\n",
    "pred_img_copy[pred_img_copy>=0.5] = 255 #binarising\n",
    "print(\"Shape of result: \" , result.shape)\n",
    "print(\"Shape of pred_img_copy: \" , pred_img_copy.shape)\n",
    "\n",
    "result[:, :, 3] = pred_img_copy # adding mask in alpha channel\n",
    "result = cv2.resize(result, (h,w)) # resizing back to original size\n",
    "print(\"bg_removed shape: \" , result.shape)\n",
    "\n",
    "# https://stackoverflow.com/questions/63001988/how-to-remove-background-of-images-in-python"
   ]
  },
  {
   "cell_type": "code",
   "execution_count": 45,
   "metadata": {},
   "outputs": [
    {
     "data": {
      "image/png": "[encoded data removed]",
      "text/plain": [
       "<Figure size 1440x1080 with 3 Axes>"
      ]
     },
     "metadata": {},
     "output_type": "display_data"
    }
   ],
   "source": [
    "fig = plt.figure(figsize=(20, 15))\n",
    "  \n",
    "# setting values to rows and column variables\n",
    "rows = 5\n",
    "columns = 5\n",
    "\n",
    "fig.add_subplot(rows, columns, 1)\n",
    "plt.imshow(cv2.cvtColor(img_test_orig, cv2.COLOR_BGR2RGB))\n",
    "plt.xticks([]), plt.yticks([])  # to hide tick values on X and Y axis\n",
    "plt.title(\"Original Image\")\n",
    "\n",
    "fig.add_subplot(rows, columns, 2)\n",
    "plt.imshow(pred_img)\n",
    "plt.xticks([]), plt.yticks([])  # to hide tick values on X and Y axis\n",
    "plt.title(\"Predicted Mask\")\n",
    "\n",
    "fig.add_subplot(rows, columns, 3)\n",
    "plt.imshow(result)\n",
    "plt.xticks([]), plt.yticks([])  # to hide tick values on X and Y axis\n",
    "plt.title(\"Final Output\")\n",
    "\n",
    "plt.show()"
   ]
  },
  {
   "cell_type": "markdown",
   "metadata": {},
   "source": [
    "Random test on a sample image is shown above."
   ]
  }
 ],
 "metadata": {
  "kernelspec": {
   "display_name": "Python 3",
   "language": "python",
   "name": "python3"
  },
  "language_info": {
   "codemirror_mode": {
    "name": "ipython",
    "version": 3
   },
   "file_extension": ".py",
   "mimetype": "text/x-python",
   "name": "python",
   "nbconvert_exporter": "python",
   "pygments_lexer": "ipython3",
   "version": "3.6.9"
  },
  "varInspector": {
   "cols": {
    "lenName": 16,
    "lenType": 16,
    "lenVar": 40
   },
   "kernels_config": {
    "python": {
     "delete_cmd_postfix": "",
     "delete_cmd_prefix": "del ",
     "library": "var_list.py",
     "varRefreshCmd": "print(var_dic_list())"
    },
    "r": {
     "delete_cmd_postfix": ") ",
     "delete_cmd_prefix": "rm(",
     "library": "var_list.r",
     "varRefreshCmd": "cat(var_dic_list()) "
    }
   },
   "types_to_exclude": [
    "module",
    "function",
    "builtin_function_or_method",
    "instance",
    "_Feature"
   ],
   "window_display": false
  }
 },
 "nbformat": 4,
 "nbformat_minor": 4
}
